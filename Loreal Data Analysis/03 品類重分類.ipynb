{
 "cells": [
  {
   "cell_type": "markdown",
   "metadata": {},
   "source": [
    "### * 品類重分類"
   ]
  },
  {
   "cell_type": "code",
   "execution_count": 166,
   "metadata": {},
   "outputs": [],
   "source": [
    "import pandas as pd\n",
    "import numpy as np\n",
    "import jieba"
   ]
  },
  {
   "cell_type": "markdown",
   "metadata": {},
   "source": [
    "#### 1. 斷詞"
   ]
  },
  {
   "cell_type": "code",
   "execution_count": null,
   "metadata": {},
   "outputs": [],
   "source": [
    "usecols = ['customer_id', 'inovice_no', 'item_name', 'Item_category']"
   ]
  },
  {
   "cell_type": "code",
   "execution_count": null,
   "metadata": {},
   "outputs": [],
   "source": [
    "invoice = pd.read_excel('./invoice_20241113.xlsx', usecols=usecols)"
   ]
  },
  {
   "cell_type": "code",
   "execution_count": null,
   "metadata": {},
   "outputs": [],
   "source": [
    "cat_dict = invoice.groupby('Item_category', dropna=False)['item_name'].apply(list).to_dict()"
   ]
  },
  {
   "cell_type": "code",
   "execution_count": null,
   "metadata": {},
   "outputs": [],
   "source": [
    "cat_dict_len = {k: len(v) for k, v in cat_dict.items()}\n",
    "print(sum(cat_dict_len.values()))"
   ]
  },
  {
   "cell_type": "code",
   "execution_count": null,
   "metadata": {},
   "outputs": [],
   "source": [
    "stopwords = set()\n",
    "\n",
    "with open('./stop_words.txt', 'r', encoding='utf-8') as file:\n",
    "  for line in file:\n",
    "    stopwords.add(line.strip())"
   ]
  },
  {
   "cell_type": "markdown",
   "metadata": {},
   "source": [
    "##### 1-1. 關鍵字"
   ]
  },
  {
   "cell_type": "code",
   "execution_count": null,
   "metadata": {},
   "outputs": [],
   "source": [
    "keywords_dict = {}\n",
    "keywords_weight_dict = {}\n",
    "\n",
    "for k, v in cat_dict.items():\n",
    "  v = ' '.join(v)\n",
    "  keywords = jieba.analyse.extract_tags(v, topK=50, withWeight=False, allowPOS=()) # allowPOS 指定詞性\n",
    "  keywords_weight = jieba.analyse.extract_tags(v, topK=50, withWeight=True, allowPOS=())\n",
    "  keywords_dict[k] = keywords\n",
    "  keywords_weight_dict[k] = keywords_weight"
   ]
  },
  {
   "cell_type": "code",
   "execution_count": null,
   "metadata": {},
   "outputs": [],
   "source": [
    "keywords_df = pd.DataFrame(keywords_dict)"
   ]
  },
  {
   "cell_type": "markdown",
   "metadata": {},
   "source": [
    "##### 1-2. 最常出現的字"
   ]
  },
  {
   "cell_type": "code",
   "execution_count": null,
   "metadata": {},
   "outputs": [],
   "source": [
    "from collections import Counter"
   ]
  },
  {
   "cell_type": "code",
   "execution_count": null,
   "metadata": {},
   "outputs": [],
   "source": [
    "common_dict = {}\n",
    "\n",
    "for k, v in cat_dict.items():\n",
    "  v = ' '.join(v)\n",
    "  common = jieba.lcut(v)\n",
    "  common = [word for word in common if (word not in stopwords) and (len(word) > 1) and not any(i.isdigit() for i in word)]\n",
    "  counter = Counter(common)\n",
    "  most_common = counter.most_common(50)\n",
    "  most_common_words = [w[0] for w in most_common]\n",
    "  common_dict[k] = most_common_words"
   ]
  },
  {
   "cell_type": "code",
   "execution_count": null,
   "metadata": {},
   "outputs": [],
   "source": [
    "common_df = pd.DataFrame(common_dict)"
   ]
  },
  {
   "cell_type": "markdown",
   "metadata": {},
   "source": [
    "##### 1-3. 輸出"
   ]
  },
  {
   "cell_type": "code",
   "execution_count": null,
   "metadata": {},
   "outputs": [],
   "source": [
    "with pd.ExcelWriter('./keywords.xlsx') as writer:\n",
    "  common_df.to_excel(writer, sheet_name='most_common', index=False)"
   ]
  },
  {
   "cell_type": "markdown",
   "metadata": {},
   "source": [
    "#### 2. 重分類"
   ]
  },
  {
   "cell_type": "code",
   "execution_count": 167,
   "metadata": {},
   "outputs": [],
   "source": [
    "invoice = pd.read_excel(\"./invoice_20241113.xlsx\")"
   ]
  },
  {
   "cell_type": "code",
   "execution_count": 168,
   "metadata": {},
   "outputs": [],
   "source": [
    "invoice_copy = invoice.copy()"
   ]
  },
  {
   "cell_type": "code",
   "execution_count": 169,
   "metadata": {},
   "outputs": [],
   "source": [
    "usecols = ['Item Name', '原品類', '新品類']"
   ]
  },
  {
   "cell_type": "code",
   "execution_count": 170,
   "metadata": {},
   "outputs": [],
   "source": [
    "cat_df = pd.read_excel(\"./1125 任務盤點.xlsx\", sheet_name=\"資料髒值處理\", usecols=usecols)"
   ]
  },
  {
   "cell_type": "code",
   "execution_count": 171,
   "metadata": {},
   "outputs": [],
   "source": [
    "cat_df.loc[:, '原品類'] = cat_df['原品類'].apply(lambda x: np.nan if x == '無品類' else x)"
   ]
  },
  {
   "cell_type": "code",
   "execution_count": 172,
   "metadata": {},
   "outputs": [],
   "source": [
    "cat_dict = {}"
   ]
  },
  {
   "cell_type": "code",
   "execution_count": 173,
   "metadata": {},
   "outputs": [],
   "source": [
    "for idx, row in cat_df.iterrows():\n",
    "    if row['原品類'] not in cat_dict.keys():\n",
    "        cat_dict[row['原品類']] = []\n",
    "    cat_dict[row['原品類']].append((row['Item Name'], row['新品類']))"
   ]
  },
  {
   "cell_type": "code",
   "execution_count": 174,
   "metadata": {},
   "outputs": [],
   "source": [
    "for k, v in cat_dict.items():\n",
    "    try:\n",
    "        if np.isnan(k):\n",
    "            for s in v:\n",
    "                k_index = invoice[(invoice['Item_category'].isna()) & (invoice['item_name'].str.contains(s[0].strip()))].index\n",
    "                invoice_copy.loc[k_index, 'Item_category'] = s[1]\n",
    "    except:\n",
    "        for s in v:\n",
    "            k_index = invoice[(invoice['Item_category'] == k) & (invoice['item_name'].str.contains(s[0].strip()))].index\n",
    "            invoice_copy.loc[k_index, 'Item_category'] = s[1]"
   ]
  },
  {
   "cell_type": "code",
   "execution_count": 175,
   "metadata": {},
   "outputs": [],
   "source": [
    "channel_dict = {'成人‧情趣': [('宜家家居', '生活日用品'), ('韓商美迪特拉比', '美妝‧保養')]}"
   ]
  },
  {
   "cell_type": "code",
   "execution_count": 176,
   "metadata": {},
   "outputs": [],
   "source": [
    "for k, v in channel_dict.items():\n",
    "    for s in v:\n",
    "        k_index = invoice[(invoice['Item_category'] == k) & (invoice['seller_name_adjusted'] == s[0].strip())].index\n",
    "        invoice_copy.loc[k_index, 'Item_category'] = s[1]"
   ]
  },
  {
   "cell_type": "code",
   "execution_count": 181,
   "metadata": {},
   "outputs": [],
   "source": [
    "invoice_copy.to_excel(\"./invoice_20241126.xlsx\", index=False)"
   ]
  }
 ],
 "metadata": {
  "kernelspec": {
   "display_name": "Python 3",
   "language": "python",
   "name": "python3"
  },
  "language_info": {
   "codemirror_mode": {
    "name": "ipython",
    "version": 3
   },
   "file_extension": ".py",
   "mimetype": "text/x-python",
   "name": "python",
   "nbconvert_exporter": "python",
   "pygments_lexer": "ipython3",
   "version": "3.13.0"
  }
 },
 "nbformat": 4,
 "nbformat_minor": 2
}
