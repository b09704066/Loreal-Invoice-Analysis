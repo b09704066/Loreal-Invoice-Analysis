{
 "cells": [
  {
   "cell_type": "code",
   "execution_count": 1,
   "id": "d22c1509-2b34-49b2-b923-68b5ea12da37",
   "metadata": {},
   "outputs": [],
   "source": [
    "import pandas as pd\n",
    "\n",
    "# Load the Excel file\n",
    "excel_file = 'invoice_20241201.xlsx'\n",
    "\n",
    "# Read the first sheet (or specify the sheet name or index if needed)\n",
    "data = pd.read_excel(excel_file, sheet_name='Sheet1')"
   ]
  },
  {
   "cell_type": "code",
   "execution_count": 2,
   "id": "5b3effae-e21e-43da-a781-89fc4e02f50c",
   "metadata": {},
   "outputs": [],
   "source": [
    "import matplotlib.pyplot as plt\n",
    "from matplotlib import rcParams\n",
    "from matplotlib.font_manager import FontProperties\n",
    "from wordcloud import WordCloud\n",
    "import jieba  # For Chinese text segmentation\n",
    "import re  # For cleaning text\n",
    "from matplotlib.ticker import FuncFormatter\n",
    "import numpy as np\n",
    "from scipy.stats import linregress\n",
    "import seaborn as sns"
   ]
  },
  {
   "cell_type": "code",
   "execution_count": 3,
   "id": "deef92fa-3130-4568-9afe-92fc7e371ffd",
   "metadata": {},
   "outputs": [],
   "source": [
    "# Specify the font file path for Chinese characters\n",
    "font_path = '/System/Library/Fonts/PingFang.ttc'  # Adjust to the actual path\n",
    "font_prop = FontProperties(fname=font_path)"
   ]
  },
  {
   "cell_type": "code",
   "execution_count": 33,
   "id": "4d8ea8e0-bb0b-4ae2-8ceb-0413bd584c80",
   "metadata": {},
   "outputs": [
    {
     "data": {
      "text/html": [
       "<div>\n",
       "<style scoped>\n",
       "    .dataframe tbody tr th:only-of-type {\n",
       "        vertical-align: middle;\n",
       "    }\n",
       "\n",
       "    .dataframe tbody tr th {\n",
       "        vertical-align: top;\n",
       "    }\n",
       "\n",
       "    .dataframe thead th {\n",
       "        text-align: right;\n",
       "    }\n",
       "</style>\n",
       "<table border=\"1\" class=\"dataframe\">\n",
       "  <thead>\n",
       "    <tr style=\"text-align: right;\">\n",
       "      <th></th>\n",
       "      <th>customer_id</th>\n",
       "      <th>inovice_no</th>\n",
       "      <th>item_name</th>\n",
       "      <th>Item_category</th>\n",
       "      <th>channel</th>\n",
       "      <th>amount</th>\n",
       "      <th>seller_ban</th>\n",
       "      <th>inv_date</th>\n",
       "      <th>unit_price</th>\n",
       "      <th>quantity</th>\n",
       "      <th>customer_category</th>\n",
       "      <th>lancome</th>\n",
       "      <th>has_discount</th>\n",
       "      <th>粉底</th>\n",
       "      <th>精華液</th>\n",
       "      <th>seller_name</th>\n",
       "      <th>seller_name_adjusted</th>\n",
       "      <th>potential_score</th>\n",
       "      <th>Item_category_new</th>\n",
       "    </tr>\n",
       "  </thead>\n",
       "  <tbody>\n",
       "    <tr>\n",
       "      <th>0</th>\n",
       "      <td>U0001</td>\n",
       "      <td>V000001</td>\n",
       "      <td>Websites   Marketing Premium vNext Intl - Rene...</td>\n",
       "      <td>手續費‧服務費‧禮券</td>\n",
       "      <td>電子商務‧直銷</td>\n",
       "      <td>576</td>\n",
       "      <td>73672692</td>\n",
       "      <td>2024-04-24</td>\n",
       "      <td>576</td>\n",
       "      <td>1</td>\n",
       "      <td>2</td>\n",
       "      <td>0</td>\n",
       "      <td>1</td>\n",
       "      <td>NaN</td>\n",
       "      <td>NaN</td>\n",
       "      <td>ＧｏＤａｄｄｙ．ｃｏｍ，　ＬＬＣ</td>\n",
       "      <td>ＧｏＤａｄｄｙ．ｃｏｍ，　ＬＬＣ</td>\n",
       "      <td>NaN</td>\n",
       "      <td>手續費‧服務費‧禮券</td>\n",
       "    </tr>\n",
       "    <tr>\n",
       "      <th>1</th>\n",
       "      <td>U0002</td>\n",
       "      <td>V000002</td>\n",
       "      <td>來復易紙尿片</td>\n",
       "      <td>親子‧女性</td>\n",
       "      <td>日常用品‧百貨</td>\n",
       "      <td>225</td>\n",
       "      <td>90513776</td>\n",
       "      <td>2024-04-06</td>\n",
       "      <td>225</td>\n",
       "      <td>1</td>\n",
       "      <td>3</td>\n",
       "      <td>0</td>\n",
       "      <td>0</td>\n",
       "      <td>NaN</td>\n",
       "      <td>NaN</td>\n",
       "      <td>全聯實業股份有限公司大肚中蔗分公司</td>\n",
       "      <td>全聯實業</td>\n",
       "      <td>2.0</td>\n",
       "      <td>親子‧女性</td>\n",
       "    </tr>\n",
       "    <tr>\n",
       "      <th>2</th>\n",
       "      <td>U0003</td>\n",
       "      <td>V000003</td>\n",
       "      <td>熊寶貝護衣海洋</td>\n",
       "      <td>親子‧女性</td>\n",
       "      <td>日常用品‧百貨</td>\n",
       "      <td>129</td>\n",
       "      <td>24802613</td>\n",
       "      <td>2024-04-06</td>\n",
       "      <td>129</td>\n",
       "      <td>1</td>\n",
       "      <td>3</td>\n",
       "      <td>0</td>\n",
       "      <td>0</td>\n",
       "      <td>NaN</td>\n",
       "      <td>NaN</td>\n",
       "      <td>全聯實業股份有限公司潮州光復分公司</td>\n",
       "      <td>全聯實業</td>\n",
       "      <td>1.0</td>\n",
       "      <td>親子‧女性</td>\n",
       "    </tr>\n",
       "    <tr>\n",
       "      <th>3</th>\n",
       "      <td>U0005</td>\n",
       "      <td>V000005</td>\n",
       "      <td>熊寶貝護衣小蒼</td>\n",
       "      <td>親子‧女性</td>\n",
       "      <td>日常用品‧百貨</td>\n",
       "      <td>792</td>\n",
       "      <td>24794971</td>\n",
       "      <td>2024-04-04</td>\n",
       "      <td>198</td>\n",
       "      <td>4</td>\n",
       "      <td>3</td>\n",
       "      <td>0</td>\n",
       "      <td>0</td>\n",
       "      <td>NaN</td>\n",
       "      <td>NaN</td>\n",
       "      <td>全聯實業股份有限公司大里新芳分公司</td>\n",
       "      <td>全聯實業</td>\n",
       "      <td>3.0</td>\n",
       "      <td>親子‧女性</td>\n",
       "    </tr>\n",
       "    <tr>\n",
       "      <th>4</th>\n",
       "      <td>U0006</td>\n",
       "      <td>V000006</td>\n",
       "      <td>蘇菲天然棉護墊</td>\n",
       "      <td>親子‧女性</td>\n",
       "      <td>日常用品‧百貨</td>\n",
       "      <td>140</td>\n",
       "      <td>90303384</td>\n",
       "      <td>2024-04-06</td>\n",
       "      <td>70</td>\n",
       "      <td>2</td>\n",
       "      <td>2</td>\n",
       "      <td>0</td>\n",
       "      <td>0</td>\n",
       "      <td>NaN</td>\n",
       "      <td>NaN</td>\n",
       "      <td>全聯實業股份有限公司竹北文平分公司</td>\n",
       "      <td>全聯實業</td>\n",
       "      <td>NaN</td>\n",
       "      <td>親子‧女性</td>\n",
       "    </tr>\n",
       "  </tbody>\n",
       "</table>\n",
       "</div>"
      ],
      "text/plain": [
       "  customer_id inovice_no                                          item_name  \\\n",
       "0       U0001    V000001  Websites   Marketing Premium vNext Intl - Rene...   \n",
       "1       U0002    V000002                                             來復易紙尿片   \n",
       "2       U0003    V000003                                            熊寶貝護衣海洋   \n",
       "3       U0005    V000005                                            熊寶貝護衣小蒼   \n",
       "4       U0006    V000006                                            蘇菲天然棉護墊   \n",
       "\n",
       "  Item_category  channel  amount  seller_ban   inv_date  unit_price  quantity  \\\n",
       "0    手續費‧服務費‧禮券  電子商務‧直銷     576    73672692 2024-04-24         576         1   \n",
       "1         親子‧女性  日常用品‧百貨     225    90513776 2024-04-06         225         1   \n",
       "2         親子‧女性  日常用品‧百貨     129    24802613 2024-04-06         129         1   \n",
       "3         親子‧女性  日常用品‧百貨     792    24794971 2024-04-04         198         4   \n",
       "4         親子‧女性  日常用品‧百貨     140    90303384 2024-04-06          70         2   \n",
       "\n",
       "   customer_category  lancome  has_discount  粉底  精華液        seller_name  \\\n",
       "0                  2        0             1 NaN  NaN   ＧｏＤａｄｄｙ．ｃｏｍ，　ＬＬＣ   \n",
       "1                  3        0             0 NaN  NaN  全聯實業股份有限公司大肚中蔗分公司   \n",
       "2                  3        0             0 NaN  NaN  全聯實業股份有限公司潮州光復分公司   \n",
       "3                  3        0             0 NaN  NaN  全聯實業股份有限公司大里新芳分公司   \n",
       "4                  2        0             0 NaN  NaN  全聯實業股份有限公司竹北文平分公司   \n",
       "\n",
       "  seller_name_adjusted  potential_score Item_category_new  \n",
       "0     ＧｏＤａｄｄｙ．ｃｏｍ，　ＬＬＣ              NaN        手續費‧服務費‧禮券  \n",
       "1                 全聯實業              2.0             親子‧女性  \n",
       "2                 全聯實業              1.0             親子‧女性  \n",
       "3                 全聯實業              3.0             親子‧女性  \n",
       "4                 全聯實業              NaN             親子‧女性  "
      ]
     },
     "execution_count": 33,
     "metadata": {},
     "output_type": "execute_result"
    }
   ],
   "source": [
    "data.head()"
   ]
  },
  {
   "cell_type": "markdown",
   "id": "35a9d670-fac8-4d84-bb27-0d7772d7080a",
   "metadata": {},
   "source": [
    "#### 活躍客美妝保養平均佔比\n",
    "以此作為 benchmark（每位顧客應達到的美妝消費水準)"
   ]
  },
  {
   "cell_type": "code",
   "execution_count": 4,
   "id": "d8aa95b6-bc6e-46d8-806f-63293b241487",
   "metadata": {},
   "outputs": [
    {
     "name": "stdout",
     "output_type": "stream",
     "text": [
      "Average ratio of '美妝‧保養' amount to total amount for customer_category = 2: 0.23\n"
     ]
    }
   ],
   "source": [
    "# Step 1: Filter the data for 活躍客\n",
    "filtered_data = data[data['customer_category'] == 2]\n",
    "\n",
    "# Step 2: Calculate total amount and '美妝‧保養' amount for each customer\n",
    "total_amount = filtered_data.groupby('customer_id')['amount'].sum()\n",
    "beauty_amount = filtered_data[filtered_data['Item_category'] == '美妝‧保養'].groupby('customer_id')['amount'].sum()\n",
    "\n",
    "# Step 3: Calculate the ratio of '美妝‧保養' amount to total amount\n",
    "ratios = (beauty_amount / total_amount).fillna(0)\n",
    "\n",
    "# Step 4: Compute the average ratio（活躍客美妝保養佔比）\n",
    "average_active_beauty_ratio = ratios.mean()\n",
    "\n",
    "print(f\"Average ratio of '美妝‧保養' amount to total amount for customer_category = 2: {average_active_beauty_ratio:.2f}\")"
   ]
  },
  {
   "cell_type": "markdown",
   "id": "a20674d8-1c41-400a-a913-1b85f732c16b",
   "metadata": {},
   "source": [
    "#### 沈睡客美妝保養平均佔比"
   ]
  },
  {
   "cell_type": "code",
   "execution_count": 5,
   "id": "266ae069-7287-418b-88ea-92f69bd0d9e6",
   "metadata": {},
   "outputs": [
    {
     "name": "stdout",
     "output_type": "stream",
     "text": [
      "Average ratio of '美妝‧保養' amount to total amount for customer_category = 2: 0.19\n"
     ]
    }
   ],
   "source": [
    "# Step 1: Filter the data for customer_category = 3\n",
    "filtered_data = data[data['customer_category'] == 3]\n",
    "\n",
    "# Step 2: Calculate total amount and '美妝‧保養' amount for each customer\n",
    "total_amount = filtered_data.groupby('customer_id')['amount'].sum()\n",
    "beauty_amount = filtered_data[filtered_data['Item_category'] == '美妝‧保養'].groupby('customer_id')['amount'].sum()\n",
    "\n",
    "# Step 3: Calculate the ratio of '美妝‧保養' amount to total amount\n",
    "ratios = (beauty_amount / total_amount).fillna(0)\n",
    "\n",
    "# Step 4: Compute the average ratio\n",
    "average_sleep_beauty_ratio = ratios.mean()\n",
    "\n",
    "print(f\"Average ratio of '美妝‧保養' amount to total amount for customer_category = 2: {average_sleep_beauty_ratio:.2f}\")"
   ]
  },
  {
   "cell_type": "markdown",
   "id": "4de0e1e4-b6ec-46ca-a11e-b2c3737dc0f6",
   "metadata": {},
   "source": [
    "## 潛力分群新增欄位"
   ]
  },
  {
   "cell_type": "markdown",
   "id": "f3c2c33d-6e9f-4902-896b-be22a6519d2e",
   "metadata": {},
   "source": [
    "#### 新增 ``beauty_amount_ratio`` 欄位\n",
    "每位顧客美妝保養消費占比"
   ]
  },
  {
   "cell_type": "code",
   "execution_count": 6,
   "id": "cb3ab4bf-f53d-4c91-b12d-1d8da0e3414f",
   "metadata": {},
   "outputs": [
    {
     "name": "stdout",
     "output_type": "stream",
     "text": [
      "  customer_id inovice_no                                          item_name  \\\n",
      "0       U0001    V000001  Websites   Marketing Premium vNext Intl - Rene...   \n",
      "1       U0002    V000002                                             來復易紙尿片   \n",
      "2       U0003    V000003                                            熊寶貝護衣海洋   \n",
      "3       U0005    V000005                                            熊寶貝護衣小蒼   \n",
      "4       U0006    V000006                                            蘇菲天然棉護墊   \n",
      "\n",
      "  Item_category  channel  amount  seller_ban   inv_date  unit_price  quantity  \\\n",
      "0    手續費‧服務費‧禮券  電子商務‧直銷     576    73672692 2024-04-24         576         1   \n",
      "1         親子‧女性  日常用品‧百貨     225    90513776 2024-04-06         225         1   \n",
      "2         親子‧女性  日常用品‧百貨     129    24802613 2024-04-06         129         1   \n",
      "3         親子‧女性  日常用品‧百貨     792    24794971 2024-04-04         198         4   \n",
      "4         親子‧女性  日常用品‧百貨     140    90303384 2024-04-06          70         2   \n",
      "\n",
      "   customer_category  lancome  has_discount  粉底  精華液        seller_name  \\\n",
      "0                  2        0             1 NaN  NaN   ＧｏＤａｄｄｙ．ｃｏｍ，　ＬＬＣ   \n",
      "1                  3        0             0 NaN  NaN  全聯實業股份有限公司大肚中蔗分公司   \n",
      "2                  3        0             0 NaN  NaN  全聯實業股份有限公司潮州光復分公司   \n",
      "3                  3        0             0 NaN  NaN  全聯實業股份有限公司大里新芳分公司   \n",
      "4                  2        0             0 NaN  NaN  全聯實業股份有限公司竹北文平分公司   \n",
      "\n",
      "  seller_name_adjusted  potential_score Item_category_new  beauty_amount_ratio  \n",
      "0     ＧｏＤａｄｄｙ．ｃｏｍ，　ＬＬＣ              NaN        手續費‧服務費‧禮券             0.021856  \n",
      "1                 全聯實業              2.0             親子‧女性             0.221501  \n",
      "2                 全聯實業              1.0             親子‧女性             0.356210  \n",
      "3                 全聯實業              3.0             親子‧女性             0.088026  \n",
      "4                 全聯實業              NaN             親子‧女性             0.328061  \n"
     ]
    }
   ],
   "source": [
    "# Step 1: Calculate total amount and '美妝‧保養' amount for each customer\n",
    "total_amount = data.groupby('customer_id')['amount'].sum()\n",
    "beauty_amount = data[data['Item_category'] == '美妝‧保養'].groupby('customer_id')['amount'].sum()\n",
    "\n",
    "# Step 2: Calculate the ratio of '美妝‧保養' amount to total amount\n",
    "ratios = (beauty_amount / total_amount).fillna(0)\n",
    "\n",
    "# Step 3: Map the ratios back to the original DataFrame\n",
    "data['beauty_amount_ratio'] = data['customer_id'].map(ratios)\n",
    "\n",
    "# Display the resulting DataFrame\n",
    "print(data.head())"
   ]
  },
  {
   "cell_type": "markdown",
   "id": "340f0922-2852-4064-ac88-4489ac4a9b91",
   "metadata": {},
   "source": [
    "#### 新增 ``beauty_ratio_gap`` 欄位\n",
    "每位顧客美妝保養消費占比，與活躍客美妝保養消費占比的差距（%）"
   ]
  },
  {
   "cell_type": "code",
   "execution_count": 7,
   "id": "e49cf011-f99a-44ba-8dfd-fe103cdca53e",
   "metadata": {},
   "outputs": [
    {
     "name": "stdout",
     "output_type": "stream",
     "text": [
      "  customer_id inovice_no                                          item_name  \\\n",
      "0       U0001    V000001  Websites   Marketing Premium vNext Intl - Rene...   \n",
      "1       U0002    V000002                                             來復易紙尿片   \n",
      "2       U0003    V000003                                            熊寶貝護衣海洋   \n",
      "3       U0005    V000005                                            熊寶貝護衣小蒼   \n",
      "4       U0006    V000006                                            蘇菲天然棉護墊   \n",
      "\n",
      "  Item_category  channel  amount  seller_ban   inv_date  unit_price  quantity  \\\n",
      "0    手續費‧服務費‧禮券  電子商務‧直銷     576    73672692 2024-04-24         576         1   \n",
      "1         親子‧女性  日常用品‧百貨     225    90513776 2024-04-06         225         1   \n",
      "2         親子‧女性  日常用品‧百貨     129    24802613 2024-04-06         129         1   \n",
      "3         親子‧女性  日常用品‧百貨     792    24794971 2024-04-04         198         4   \n",
      "4         親子‧女性  日常用品‧百貨     140    90303384 2024-04-06          70         2   \n",
      "\n",
      "   ...  lancome  has_discount  粉底  精華液        seller_name  \\\n",
      "0  ...        0             1 NaN  NaN   ＧｏＤａｄｄｙ．ｃｏｍ，　ＬＬＣ   \n",
      "1  ...        0             0 NaN  NaN  全聯實業股份有限公司大肚中蔗分公司   \n",
      "2  ...        0             0 NaN  NaN  全聯實業股份有限公司潮州光復分公司   \n",
      "3  ...        0             0 NaN  NaN  全聯實業股份有限公司大里新芳分公司   \n",
      "4  ...        0             0 NaN  NaN  全聯實業股份有限公司竹北文平分公司   \n",
      "\n",
      "  seller_name_adjusted potential_score  Item_category_new beauty_amount_ratio  \\\n",
      "0     ＧｏＤａｄｄｙ．ｃｏｍ，　ＬＬＣ             NaN         手續費‧服務費‧禮券            0.021856   \n",
      "1                 全聯實業             2.0              親子‧女性            0.221501   \n",
      "2                 全聯實業             1.0              親子‧女性            0.356210   \n",
      "3                 全聯實業             3.0              親子‧女性            0.088026   \n",
      "4                 全聯實業             NaN              親子‧女性            0.328061   \n",
      "\n",
      "   beauty_ratio_gap  \n",
      "0          0.207755  \n",
      "1          0.008110  \n",
      "2         -0.126599  \n",
      "3          0.141585  \n",
      "4         -0.098450  \n",
      "\n",
      "[5 rows x 21 columns]\n"
     ]
    }
   ],
   "source": [
    "data['beauty_ratio_gap'] = average_active_beauty_ratio - data['beauty_amount_ratio'] \n",
    "print(data.head())"
   ]
  },
  {
   "cell_type": "markdown",
   "id": "e1a38c39-d6b6-4df6-8766-ca236974a145",
   "metadata": {},
   "source": [
    "#### 新增 ``total_amount`` 欄位\n",
    "每位顧客整體消費占比"
   ]
  },
  {
   "cell_type": "code",
   "execution_count": 8,
   "id": "1e38db9d-bcd9-4ffc-b1b1-76e54b4a05d2",
   "metadata": {},
   "outputs": [
    {
     "name": "stdout",
     "output_type": "stream",
     "text": [
      "  customer_id inovice_no                                          item_name  \\\n",
      "0       U0001    V000001  Websites   Marketing Premium vNext Intl - Rene...   \n",
      "1       U0002    V000002                                             來復易紙尿片   \n",
      "2       U0003    V000003                                            熊寶貝護衣海洋   \n",
      "3       U0005    V000005                                            熊寶貝護衣小蒼   \n",
      "4       U0006    V000006                                            蘇菲天然棉護墊   \n",
      "\n",
      "  Item_category  channel  amount  seller_ban   inv_date  unit_price  quantity  \\\n",
      "0    手續費‧服務費‧禮券  電子商務‧直銷     576    73672692 2024-04-24         576         1   \n",
      "1         親子‧女性  日常用品‧百貨     225    90513776 2024-04-06         225         1   \n",
      "2         親子‧女性  日常用品‧百貨     129    24802613 2024-04-06         129         1   \n",
      "3         親子‧女性  日常用品‧百貨     792    24794971 2024-04-04         198         4   \n",
      "4         親子‧女性  日常用品‧百貨     140    90303384 2024-04-06          70         2   \n",
      "\n",
      "   ...  has_discount  粉底  精華液        seller_name  seller_name_adjusted  \\\n",
      "0  ...             1 NaN  NaN   ＧｏＤａｄｄｙ．ｃｏｍ，　ＬＬＣ      ＧｏＤａｄｄｙ．ｃｏｍ，　ＬＬＣ   \n",
      "1  ...             0 NaN  NaN  全聯實業股份有限公司大肚中蔗分公司                  全聯實業   \n",
      "2  ...             0 NaN  NaN  全聯實業股份有限公司潮州光復分公司                  全聯實業   \n",
      "3  ...             0 NaN  NaN  全聯實業股份有限公司大里新芳分公司                  全聯實業   \n",
      "4  ...             0 NaN  NaN  全聯實業股份有限公司竹北文平分公司                  全聯實業   \n",
      "\n",
      "  potential_score Item_category_new  beauty_amount_ratio beauty_ratio_gap  \\\n",
      "0             NaN        手續費‧服務費‧禮券             0.021856         0.207755   \n",
      "1             2.0             親子‧女性             0.221501         0.008110   \n",
      "2             1.0             親子‧女性             0.356210        -0.126599   \n",
      "3             3.0             親子‧女性             0.088026         0.141585   \n",
      "4             NaN             親子‧女性             0.328061        -0.098450   \n",
      "\n",
      "   total_amount  \n",
      "0         63506  \n",
      "1          9395  \n",
      "2          8043  \n",
      "3        219811  \n",
      "4        124102  \n",
      "\n",
      "[5 rows x 22 columns]\n"
     ]
    }
   ],
   "source": [
    "# Step 1: Calculate total amount for each customer\n",
    "customer_total_amount = data.groupby('customer_id')['amount'].sum()\n",
    "\n",
    "# Step 2: Map the total amount back to sleep_data\n",
    "data['total_amount'] = data['customer_id'].map(customer_total_amount)\n",
    "\n",
    "# Display the updated DataFrame\n",
    "print(data.head())"
   ]
  },
  {
   "cell_type": "markdown",
   "id": "ab4a4e4c-54e5-4cc3-9f43-0ec2b6ad5422",
   "metadata": {},
   "source": [
    "#### 新增 ``beauty_amount_gap`` 欄位\n",
    "每位顧客美妝保養消費可提升空間（$）"
   ]
  },
  {
   "cell_type": "code",
   "execution_count": 9,
   "id": "88ff82f8-6d35-4e53-bd12-8d0cae91d1d0",
   "metadata": {},
   "outputs": [
    {
     "name": "stdout",
     "output_type": "stream",
     "text": [
      "  customer_id inovice_no                                          item_name  \\\n",
      "0       U0001    V000001  Websites   Marketing Premium vNext Intl - Rene...   \n",
      "1       U0002    V000002                                             來復易紙尿片   \n",
      "2       U0003    V000003                                            熊寶貝護衣海洋   \n",
      "3       U0005    V000005                                            熊寶貝護衣小蒼   \n",
      "4       U0006    V000006                                            蘇菲天然棉護墊   \n",
      "\n",
      "  Item_category  channel  amount  seller_ban   inv_date  unit_price  quantity  \\\n",
      "0    手續費‧服務費‧禮券  電子商務‧直銷     576    73672692 2024-04-24         576         1   \n",
      "1         親子‧女性  日常用品‧百貨     225    90513776 2024-04-06         225         1   \n",
      "2         親子‧女性  日常用品‧百貨     129    24802613 2024-04-06         129         1   \n",
      "3         親子‧女性  日常用品‧百貨     792    24794971 2024-04-04         198         4   \n",
      "4         親子‧女性  日常用品‧百貨     140    90303384 2024-04-06          70         2   \n",
      "\n",
      "   ...  粉底  精華液        seller_name  seller_name_adjusted  potential_score  \\\n",
      "0  ... NaN  NaN   ＧｏＤａｄｄｙ．ｃｏｍ，　ＬＬＣ      ＧｏＤａｄｄｙ．ｃｏｍ，　ＬＬＣ              NaN   \n",
      "1  ... NaN  NaN  全聯實業股份有限公司大肚中蔗分公司                  全聯實業              2.0   \n",
      "2  ... NaN  NaN  全聯實業股份有限公司潮州光復分公司                  全聯實業              1.0   \n",
      "3  ... NaN  NaN  全聯實業股份有限公司大里新芳分公司                  全聯實業              3.0   \n",
      "4  ... NaN  NaN  全聯實業股份有限公司竹北文平分公司                  全聯實業              NaN   \n",
      "\n",
      "  Item_category_new beauty_amount_ratio  beauty_ratio_gap total_amount  \\\n",
      "0        手續費‧服務費‧禮券            0.021856          0.207755        63506   \n",
      "1             親子‧女性            0.221501          0.008110         9395   \n",
      "2             親子‧女性            0.356210         -0.126599         8043   \n",
      "3             親子‧女性            0.088026          0.141585       219811   \n",
      "4             親子‧女性            0.328061         -0.098450       124102   \n",
      "\n",
      "   beauty_amount_gap  \n",
      "0       13193.669950  \n",
      "1          76.194425  \n",
      "2       -1018.239514  \n",
      "3       31122.002004  \n",
      "4      -12217.827826  \n",
      "\n",
      "[5 rows x 23 columns]\n"
     ]
    }
   ],
   "source": [
    "# Step 1: Calculate total amount for each customer\n",
    "data['beauty_amount_gap'] = data['beauty_ratio_gap'] * data['total_amount']\n",
    "\n",
    "# Display the updated DataFrame\n",
    "print(data.head())"
   ]
  },
  {
   "cell_type": "markdown",
   "id": "e9f1c2b9-0681-4a70-9402-47ac9255a391",
   "metadata": {},
   "source": [
    "## 潛力分群\n",
    "已先根據在蘭蔻內部消費記錄，區分為「新客」、「活躍客」、「沈睡客」，並貼標"
   ]
  },
  {
   "cell_type": "code",
   "execution_count": 10,
   "id": "952c56ec-3581-436c-b3df-24be61826d84",
   "metadata": {},
   "outputs": [],
   "source": [
    "new_data = data[data['customer_category'] == 1]\n",
    "active_data = data[data['customer_category'] == 2]\n",
    "sleep_data = data[data['customer_category'] == 3]"
   ]
  },
  {
   "cell_type": "code",
   "execution_count": 11,
   "id": "c47e2290-e4c8-4d04-9fca-8eccbe37cd69",
   "metadata": {},
   "outputs": [],
   "source": [
    "new_data_unique = new_data.drop_duplicates(subset=['customer_id'])\n",
    "active_data_unique = active_data.drop_duplicates(subset=['customer_id'])\n",
    "sleep_data_unique = sleep_data.drop_duplicates(subset=['customer_id'])"
   ]
  },
  {
   "cell_type": "markdown",
   "id": "bf66abdc-8134-4cb5-972e-43d9d10c9635",
   "metadata": {},
   "source": [
    "#### 新客、活躍客、沈睡客 ``美妝保養消費可提升金額`` 分佈圖（``beauty_amount_gap``）"
   ]
  },
  {
   "cell_type": "code",
   "execution_count": 12,
   "id": "3fd15115-c5ef-449a-992b-6b93b81bbf24",
   "metadata": {},
   "outputs": [
    {
     "name": "stderr",
     "output_type": "stream",
     "text": [
      "/opt/anaconda3/lib/python3.11/site-packages/seaborn/_oldcore.py:1119: FutureWarning: use_inf_as_na option is deprecated and will be removed in a future version. Convert inf values to NaN before operating instead.\n",
      "  with pd.option_context('mode.use_inf_as_na', True):\n",
      "/opt/anaconda3/lib/python3.11/site-packages/seaborn/_oldcore.py:1119: FutureWarning: use_inf_as_na option is deprecated and will be removed in a future version. Convert inf values to NaN before operating instead.\n",
      "  with pd.option_context('mode.use_inf_as_na', True):\n",
      "/opt/anaconda3/lib/python3.11/site-packages/seaborn/_oldcore.py:1119: FutureWarning: use_inf_as_na option is deprecated and will be removed in a future version. Convert inf values to NaN before operating instead.\n",
      "  with pd.option_context('mode.use_inf_as_na', True):\n"
     ]
    },
    {
     "data": {
      "image/png": "[encoded data removed]",
      "text/plain": [
       "<Figure size 800x600 with 1 Axes>"
      ]
     },
     "metadata": {},
     "output_type": "display_data"
    }
   ],
   "source": [
    "# Set the plot size and style\n",
    "plt.figure(figsize=(8, 6))\n",
    "sns.set_style(\"whitegrid\")\n",
    "\n",
    "# Plot smooth density curves for new_data\n",
    "sns.kdeplot(new_data_unique['beauty_amount_gap'], \n",
    "            fill=True, \n",
    "            color='skyblue', \n",
    "            label='New Customer', \n",
    "            alpha=0.3,  # Lower transparency to reduce overlap\n",
    "            linewidth=2)\n",
    "\n",
    "# Plot smooth density curves for active_data\n",
    "sns.kdeplot(active_data_unique['beauty_amount_gap'], \n",
    "            fill=True, \n",
    "            color='orange', \n",
    "            label='Active Customer', \n",
    "            alpha=0.3,  # Lower transparency\n",
    "            linewidth=2)\n",
    "\n",
    "# Plot smooth density curves for sleep_data\n",
    "sns.kdeplot(sleep_data_unique['beauty_amount_gap'], \n",
    "            fill=True, \n",
    "            color='green', \n",
    "            label='Sleep Customer', \n",
    "            alpha=0.3,  # Lower transparency\n",
    "            linewidth=2)\n",
    "\n",
    "# Customize the plot\n",
    "plt.title('新客、活躍客、沈睡客 可提升美妝保養金額分佈', fontsize=16,fontproperties=font_prop)\n",
    "plt.xlabel('可提升美妝保養金額', fontsize=12,fontproperties=font_prop)\n",
    "plt.ylabel('Density', fontsize=12)\n",
    "\n",
    "# Add x-axis limit\n",
    "plt.xlim(-15000, 15000)\n",
    "\n",
    "# Add a legend\n",
    "plt.legend(title='Customer Category', fontsize=12)\n",
    "\n",
    "# Show the plot\n",
    "plt.tight_layout()\n",
    "plt.show()\n"
   ]
  },
  {
   "cell_type": "markdown",
   "id": "f7675911-8e16-40ea-87c3-862c9025096a",
   "metadata": {},
   "source": [
    "#### 各客群``美妝保養消費可提升金額`` 各百分位數（``beauty_amount_gap``）\n",
    "以沈睡客可提升美妝保養金額為最高"
   ]
  },
  {
   "cell_type": "code",
   "execution_count": 20,
   "id": "b4f869ee-a644-486d-85f6-5bda1c1d1f8c",
   "metadata": {},
   "outputs": [],
   "source": [
    "data_unique = data.drop_duplicates(subset=['customer_id'])"
   ]
  },
  {
   "cell_type": "code",
   "execution_count": 61,
   "id": "b77a16f4-4b10-452f-a3f0-20e4ee1f3934",
   "metadata": {},
   "outputs": [
    {
     "name": "stdout",
     "output_type": "stream",
     "text": [
      "new_percentile: 0.00    -29306.961708\n",
      "0.25      -751.849208\n",
      "0.50       618.222728\n",
      "0.75      3150.379588\n",
      "1.00    123327.784651\n",
      "Name: beauty_amount_gap, dtype: float64\n",
      "active_percentile: 0.00   -192523.396689\n",
      "0.25     -1796.642650\n",
      "0.50       503.428057\n",
      "0.75      3346.515391\n",
      "1.00    772677.161938\n",
      "Name: beauty_amount_gap, dtype: float64\n",
      "sleep_percentile: 0.00    -91740.594640\n",
      "0.25      -798.310526\n",
      "0.50       835.554073\n",
      "0.75      4070.583152\n",
      "1.00    426749.937866\n",
      "Name: beauty_amount_gap, dtype: float64\n"
     ]
    }
   ],
   "source": [
    "new_percentiles = new_data_unique['beauty_amount_gap'].quantile([0, 0.25, 0.5, 0.75, 1])\n",
    "active_percentiles = active_data_unique['beauty_amount_gap'].quantile([0, 0.25, 0.5, 0.75, 1])\n",
    "sleep_percentiles = sleep_data_unique['beauty_amount_gap'].quantile([0, 0.25, 0.5, 0.75, 1])\n",
    "\n",
    "print(\"new_percentile:\",new_percentiles)\n",
    "print(\"active_percentile:\",active_percentiles)\n",
    "print(\"sleep_percentile:\",sleep_percentiles)"
   ]
  },
  {
   "cell_type": "markdown",
   "id": "805bde7c-1b18-4f76-937d-6a268f381abb",
   "metadata": {},
   "source": [
    "#### 潛力客群貼標\n",
    "高潛力（3）：客群內「可提升美妝保養金額」前 25 百分位數\n",
    "中潛力（2）：客群內「可提升美妝保養金額」> 0\n",
    "低潛力（1）：客群內「可提升美妝保養金額」< 0"
   ]
  },
  {
   "cell_type": "code",
   "execution_count": 62,
   "id": "a2aeb803-8a5b-45a2-8f6a-9c2e6a75f3df",
   "metadata": {},
   "outputs": [
    {
     "name": "stdout",
     "output_type": "stream",
     "text": [
      "   customer_category  beauty_amount_gap  potential_score\n",
      "0                  2       13193.669950                3\n",
      "1                  3          76.194425                2\n",
      "2                  3       -1018.239514                1\n",
      "3                  3       31122.002004                3\n",
      "4                  2      -12217.827826                1\n"
     ]
    }
   ],
   "source": [
    "# Add a new column 'potential_score' and default to category 2\n",
    "data['potential_score'] = 2\n",
    "\n",
    "# Assign potential_score = 1 for all cases where beauty_amount_gap < 0\n",
    "data.loc[data['beauty_amount_gap'] < 0, 'potential_score'] = 1\n",
    "\n",
    "# Assign potential_score = 3 for customer_category = 1 and beauty_amount_gap > 3150\n",
    "data.loc[(data['customer_category'] == 1) & (data['beauty_amount_gap'] > 3150), 'potential_score'] = 3\n",
    "\n",
    "# Assign potential_score = 3 for customer_category = 2 and beauty_amount_gap > 3346\n",
    "data.loc[(data['customer_category'] == 2) & (data['beauty_amount_gap'] > 3346), 'potential_score'] = 3\n",
    "\n",
    "data.loc[(data['customer_category'] == 3) & (data['beauty_amount_gap'] > 4070), 'potential_score'] = 3\n",
    "\n",
    "# Check the updated DataFrame\n",
    "print(data[['customer_category', 'beauty_amount_gap', 'potential_score']].head())"
   ]
  },
  {
   "cell_type": "code",
   "execution_count": null,
   "id": "fe0fb869-0b7a-414e-84e4-e877356cd19f",
   "metadata": {},
   "outputs": [],
   "source": []
  }
 ],
 "metadata": {
  "kernelspec": {
   "display_name": "Python 3 (ipykernel)",
   "language": "python",
   "name": "python3"
  },
  "language_info": {
   "codemirror_mode": {
    "name": "ipython",
    "version": 3
   },
   "file_extension": ".py",
   "mimetype": "text/x-python",
   "name": "python",
   "nbconvert_exporter": "python",
   "pygments_lexer": "ipython3",
   "version": "3.11.7"
  }
 },
 "nbformat": 4,
 "nbformat_minor": 5
}
