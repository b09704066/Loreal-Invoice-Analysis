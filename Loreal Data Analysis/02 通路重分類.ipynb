{
 "cells": [
  {
   "cell_type": "markdown",
   "metadata": {},
   "source": [
    "### *通路重分類"
   ]
  },
  {
   "cell_type": "code",
   "execution_count": 66,
   "metadata": {},
   "outputs": [],
   "source": [
    "import pandas as pd"
   ]
  },
  {
   "cell_type": "code",
   "execution_count": 67,
   "metadata": {},
   "outputs": [],
   "source": [
    "invoice = pd.read_excel(\"./data_20241111.xlsx\")"
   ]
  },
  {
   "cell_type": "code",
   "execution_count": 68,
   "metadata": {},
   "outputs": [],
   "source": [
    "seller = pd.read_excel('./decrypted_raw.xlsx', sheet_name='seller_info')"
   ]
  },
  {
   "cell_type": "code",
   "execution_count": 69,
   "metadata": {},
   "outputs": [],
   "source": [
    "invoice_m = invoice.merge(seller[['seller_ban', 'seller_name']], on='seller_ban', how='left')"
   ]
  },
  {
   "cell_type": "code",
   "execution_count": 70,
   "metadata": {},
   "outputs": [],
   "source": [
    "invoice_merge = invoice_m.copy()"
   ]
  },
  {
   "cell_type": "code",
   "execution_count": 71,
   "metadata": {},
   "outputs": [],
   "source": [
    "def find_LLC(s):\n",
    "    if '股份' in s:\n",
    "        index = s.find(\"股份\")\n",
    "        s_filtered = s[:index]\n",
    "    elif '有限公司' in s:\n",
    "        index = s.find(\"有限公司\")\n",
    "        s_filtered = s[:index]\n",
    "    else:\n",
    "        index = -1\n",
    "        s_filtered = s\n",
    "    return s_filtered"
   ]
  },
  {
   "cell_type": "code",
   "execution_count": 72,
   "metadata": {},
   "outputs": [],
   "source": [
    "department_keywords = [\n",
    "    '新光三越百貨',\n",
    "    '遠東百貨',\n",
    "    '太平洋崇光百貨',\n",
    "    '笑笑笑國際',\n",
    "    '誠品生活',\n",
    "    '遠百企業',\n",
    "    '統正開發',\n",
    "    '微風廣場實業',\n",
    "    '環球購物中心',\n",
    "    '京站實業',\n",
    "    '三新奧特萊斯',\n",
    "    '南紡流通事業',\n",
    "    '中友百貨',\n",
    "    '微風置地',\n",
    "    '遠東巨城購物中心',\n",
    "    '冠誠生活',\n",
    "    '微風場站開發',\n",
    "    '三中東區啦啦啦寶都',\n",
    "    '美麗華城市發展',\n",
    "    '宏匯新北',\n",
    "    '大樂',\n",
    "    '冠樺生活',\n",
    "    '大葉高島屋百貨',\n",
    "    '台灣泛亞零售管理顧問',\n",
    "    '台茂商場經營管理顧問',\n",
    "    '統一百貨',\n",
    "    '佳瑪百貨',\n",
    "    '華泰名品城企業',\n",
    "    '大江國際',\n",
    "    '秀泰人文',\n",
    "    '明曜百貨',\n",
    "    '墨凡',\n",
    "    '豐洋興業',\n",
    "    '漢神名店百貨',\n",
    "    '豐晨貿易',\n",
    "    '統領百貨',\n",
    "    '朕華國際',\n",
    "    '義大開發',\n",
    "    '豐東興業',\n",
    "    '經典國際',\n",
    "    '耐斯廣場',\n",
    "    '豐屏',\n",
    "    '愛茉莉太平洋',\n",
    "    '達米秀商場',\n",
    "    '野美國際開發',\n",
    "    '大統百貨企業',\n",
    "    '遠雄流通事業',\n",
    "    '欣欣大眾市場',\n",
    "    '樹林秀泰廣場',\n",
    "    '四季百貨',\n",
    "    '秀泰廣場',\n",
    "    '寶慶百貨',\n",
    "    '勤美',\n",
    "    '高青開發',\n",
    "    '誠品'\n",
    "]"
   ]
  },
  {
   "cell_type": "code",
   "execution_count": 73,
   "metadata": {},
   "outputs": [],
   "source": [
    "beauty_keywords = [\n",
    "    '屈臣氏',\n",
    "    '康是美',\n",
    "    '統一生活事業',\n",
    "    '寶雅',\n",
    "    '日曜',\n",
    "    '大創'\n",
    "]"
   ]
  },
  {
   "cell_type": "code",
   "execution_count": 74,
   "metadata": {},
   "outputs": [],
   "source": [
    "def change_channel(s, department_keywords=department_keywords, beauty_keywords=beauty_keywords):\n",
    "    if any(k in s for k in department_keywords):\n",
    "        channel = '百貨公司'\n",
    "    elif any(k in s for k in beauty_keywords):\n",
    "        channel = '美妝雜貨'\n",
    "    else:\n",
    "        channel = '日常用品‧百貨'\n",
    "    return channel"
   ]
  },
  {
   "cell_type": "code",
   "execution_count": 75,
   "metadata": {},
   "outputs": [],
   "source": [
    "invoice_merge['seller_name_adjusted'] = invoice_merge['seller_name'].apply(find_LLC)"
   ]
  },
  {
   "cell_type": "code",
   "execution_count": 76,
   "metadata": {},
   "outputs": [],
   "source": [
    "original_department_index = invoice_merge[invoice_merge['channel'] == '百貨公司‧購物中心'].index"
   ]
  },
  {
   "cell_type": "code",
   "execution_count": 77,
   "metadata": {},
   "outputs": [],
   "source": [
    "invoice_merge.loc[original_department_index, 'channel'] = invoice_merge.loc[original_department_index, 'seller_name_adjusted'].apply(change_channel, args=(department_keywords, beauty_keywords))"
   ]
  },
  {
   "cell_type": "code",
   "execution_count": 78,
   "metadata": {},
   "outputs": [],
   "source": [
    "invoice_merge.to_excel('invoice_20241113.xlsx', index=False)"
   ]
  }
 ],
 "metadata": {
  "kernelspec": {
   "display_name": "base",
   "language": "python",
   "name": "python3"
  },
  "language_info": {
   "codemirror_mode": {
    "name": "ipython",
    "version": 3
   },
   "file_extension": ".py",
   "mimetype": "text/x-python",
   "name": "python",
   "nbconvert_exporter": "python",
   "pygments_lexer": "ipython3",
   "version": "3.12.5"
  }
 },
 "nbformat": 4,
 "nbformat_minor": 2
}
